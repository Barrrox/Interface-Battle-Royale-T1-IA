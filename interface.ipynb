{
 "cells": [
  {
   "cell_type": "code",
   "execution_count": null,
   "id": "a6ec81e9",
   "metadata": {},
   "outputs": [
    {
     "name": "stdout",
     "output_type": "stream",
     "text": [
      "pygame 2.6.1 (SDL 2.28.4, Python 3.12.4)\n",
      "Hello from the pygame community. https://www.pygame.org/contribute.html\n"
     ]
    }
   ],
   "source": [
    "import pygame as pg"
   ]
  },
  {
   "cell_type": "markdown",
   "id": "a2506035",
   "metadata": {},
   "source": [
    "# Criando um labirinto usando Pygame\n",
    "\n",
    "referência: https://medium.com/@uva/build-a-simple-timed-maze-game-with-python-and-pygame-a20c1cea5406\n",
    "\n",
    "Conceitos:\n",
    "\n",
    "1. Tile: Uma imagem que compõe a textura do jogo. No caso do labirinto do trabalho, um tile pode representar uma unidade de parede, um quadrado já visitado pelo algoritmo ou o ponto de fim do labirinto.\n",
    "\n"
   ]
  },
  {
   "cell_type": "code",
   "execution_count": null,
   "id": "d8b38eec",
   "metadata": {},
   "outputs": [],
   "source": [
    "# Example file showing a circle moving on screen\n",
    "import pygame\n",
    "\n",
    "# pygame setup\n",
    "pygame.init()\n",
    "screen = pygame.display.set_mode((1280, 720))\n",
    "clock = pygame.time.Clock()\n",
    "running = True\n",
    "dt = 0 #delta time, possibilita escolher quantidade de frames\n",
    "\n",
    "# Numero de linhas e colunas do labirinto\n",
    "\n",
    "N_LINHAS = 10\n",
    "N_COLUNAS = 10\n",
    "\n",
    "# Tamanho de cada tile/célula\n",
    "\n",
    "TILE_SIZE = 10\n",
    "\n",
    "# Tamanho do labirinto\n",
    "\n",
    "LABIRINTO_ALTURA = N_LINHAS*TILE_SIZE\n",
    "LABIRINTO_LARGURA = N_COLUNAS*TILE_SIZE\n",
    "\n",
    "# Definindo tamanho da janela (20% maior que o tamanho do labirinto)\n",
    "\n",
    "JANELA_ALTURA = int(LABIRINTO_ALTURA*1.20)\n",
    "JANELA_LARGURA = int(LABIRINTO_LARGURA*1.20)\n",
    "\n",
    "# Definindo tiles\n",
    "\n",
    "branco = (255, 255, 255)\n",
    "preto = (0, 0, 0)\n",
    "verde = (0, 255, 0)\n",
    "vermelho = (255, 0, 0)\n",
    "\n",
    "# Gerar o labirinto\n",
    "\n",
    "# Desenhar o labirinto\n",
    "\n",
    "while running:\n",
    "    # poll for events\n",
    "    # pygame.QUIT event means the user clicked X to close your window\n",
    "    for event in pg.event.get():\n",
    "        if event.type == pg.QUIT:\n",
    "            running = False\n",
    "\n",
    "    # fill the screen with a color to wipe away anything from last frame\n",
    "    screen.fill(\"black\")\n",
    "\n",
    "\n",
    "\n",
    "    # flip() the display to put your work on screen\n",
    "    pygame.display.flip()\n",
    "\n",
    "    # limits FPS to 60\n",
    "    # dt is delta time in seconds since last frame, used for framerate-\n",
    "    # independent physics.\n",
    "    dt = clock.tick(60) / 1000 # NÃO MUDAR\n",
    "\n",
    "pygame.quit()"
   ]
  },
  {
   "cell_type": "markdown",
   "id": "d0b54cfb",
   "metadata": {},
   "source": [
    "# Criando o labirinto"
   ]
  },
  {
   "cell_type": "code",
   "execution_count": null,
   "id": "744fdef2",
   "metadata": {},
   "outputs": [],
   "source": [
    "# Criar labirinto\n",
    "def criar_labirinto():\n",
    "    maze = [[0] * MAZE_WIDTH for _ in range(MAZE_HEIGHT)]\n",
    "    # Randomly add obstacles\n",
    "    for _ in range(200):\n",
    "        x = random.randint(0, MAZE_WIDTH - 1)\n",
    "        y = random.randint(0, MAZE_HEIGHT - 1)\n",
    "        maze[y][x] = 1\n",
    "    # Set endpoint\n",
    "    maze[MAZE_HEIGHT - 1][MAZE_WIDTH - 1] = 2\n",
    "    return maze"
   ]
  }
 ],
 "metadata": {
  "kernelspec": {
   "display_name": "Python 3",
   "language": "python",
   "name": "python3"
  },
  "language_info": {
   "codemirror_mode": {
    "name": "ipython",
    "version": 3
   },
   "file_extension": ".py",
   "mimetype": "text/x-python",
   "name": "python",
   "nbconvert_exporter": "python",
   "pygments_lexer": "ipython3",
   "version": "3.12.4"
  }
 },
 "nbformat": 4,
 "nbformat_minor": 5
}
